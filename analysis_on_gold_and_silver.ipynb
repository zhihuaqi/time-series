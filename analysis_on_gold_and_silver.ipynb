{
 "cells": [
  {
   "cell_type": "code",
   "execution_count": 1,
   "metadata": {},
   "outputs": [],
   "source": [
    "#necessary modules\n",
    "import pandas as pd\n",
    "import matplotlib.pyplot as plt\n",
    "import numpy as np\n",
    "from pmdarima import auto_arima\n",
    "from statsmodels.tsa.seasonal import seasonal_decompose\n",
    "from statsmodels.tsa.stattools import adfuller\n",
    "from statsmodels.graphics.tsaplots import plot_acf"
   ]
  },
  {
   "cell_type": "markdown",
   "metadata": {},
   "source": [
    "## Import Data"
   ]
  },
  {
   "cell_type": "code",
   "execution_count": 2,
   "metadata": {},
   "outputs": [],
   "source": [
    "silver = pd.read_csv('data/Silver_Futures_Historical_Data.csv', index_col='Date', parse_dates=True)\n",
    "silver.sort_index(inplace=True)\n",
    "price_silver = silver['Price']"
   ]
  },
  {
   "cell_type": "code",
   "execution_count": 3,
   "metadata": {},
   "outputs": [],
   "source": [
    "gold = pd.read_csv('data/Gold_Futures_Historical_Data.csv', index_col='Date', parse_dates=True)\n",
    "gold.sort_index(inplace=True)\n",
    "price_gold = gold['Price']\n",
    "price_gold = price_gold.apply(lambda x: pd.to_numeric(x.replace(',',''), errors='coerce'))"
   ]
  },
  {
   "cell_type": "code",
   "execution_count": 4,
   "metadata": {},
   "outputs": [],
   "source": [
    "all_weekdays = pd.date_range(start='2019-01-01', end='2019-07-20', freq='B')\n",
    "price_silver = price_silver.reindex(all_weekdays)\n",
    "price_gold = price_gold.reindex(all_weekdays)"
   ]
  },
  {
   "cell_type": "code",
   "execution_count": 5,
   "metadata": {},
   "outputs": [],
   "source": [
    "df = pd.concat([price_silver, price_gold], axis=1)"
   ]
  },
  {
   "cell_type": "code",
   "execution_count": 6,
   "metadata": {},
   "outputs": [],
   "source": [
    "df.columns = [\"Silver\", \"Gold\"]\n",
    "df = df.dropna(how='any')"
   ]
  },
  {
   "cell_type": "code",
   "execution_count": 7,
   "metadata": {},
   "outputs": [
    {
     "data": {
      "text/plain": [
       "DatetimeIndex(['2019-01-01', '2019-01-02', '2019-01-03', '2019-01-04',\n",
       "               '2019-01-07', '2019-01-08', '2019-01-09', '2019-01-10',\n",
       "               '2019-01-11', '2019-01-14',\n",
       "               ...\n",
       "               '2019-07-08', '2019-07-09', '2019-07-10', '2019-07-11',\n",
       "               '2019-07-12', '2019-07-15', '2019-07-16', '2019-07-17',\n",
       "               '2019-07-18', '2019-07-19'],\n",
       "              dtype='datetime64[ns]', length=144, freq='B')"
      ]
     },
     "execution_count": 7,
     "metadata": {},
     "output_type": "execute_result"
    }
   ],
   "source": [
    "df.index"
   ]
  },
  {
   "cell_type": "code",
   "execution_count": 8,
   "metadata": {},
   "outputs": [
    {
     "data": {
      "text/html": [
       "<div>\n",
       "<style scoped>\n",
       "    .dataframe tbody tr th:only-of-type {\n",
       "        vertical-align: middle;\n",
       "    }\n",
       "\n",
       "    .dataframe tbody tr th {\n",
       "        vertical-align: top;\n",
       "    }\n",
       "\n",
       "    .dataframe thead th {\n",
       "        text-align: right;\n",
       "    }\n",
       "</style>\n",
       "<table border=\"1\" class=\"dataframe\">\n",
       "  <thead>\n",
       "    <tr style=\"text-align: right;\">\n",
       "      <th></th>\n",
       "      <th>Silver</th>\n",
       "      <th>Gold</th>\n",
       "    </tr>\n",
       "  </thead>\n",
       "  <tbody>\n",
       "    <tr>\n",
       "      <th>2019-01-01</th>\n",
       "      <td>15.523</td>\n",
       "      <td>1283.35</td>\n",
       "    </tr>\n",
       "    <tr>\n",
       "      <th>2019-01-02</th>\n",
       "      <td>15.907</td>\n",
       "      <td>1296.90</td>\n",
       "    </tr>\n",
       "    <tr>\n",
       "      <th>2019-01-03</th>\n",
       "      <td>16.061</td>\n",
       "      <td>1307.70</td>\n",
       "    </tr>\n",
       "    <tr>\n",
       "      <th>2019-01-04</th>\n",
       "      <td>16.052</td>\n",
       "      <td>1298.70</td>\n",
       "    </tr>\n",
       "    <tr>\n",
       "      <th>2019-01-07</th>\n",
       "      <td>16.021</td>\n",
       "      <td>1302.90</td>\n",
       "    </tr>\n",
       "    <tr>\n",
       "      <th>2019-01-08</th>\n",
       "      <td>15.988</td>\n",
       "      <td>1298.80</td>\n",
       "    </tr>\n",
       "    <tr>\n",
       "      <th>2019-01-09</th>\n",
       "      <td>16.009</td>\n",
       "      <td>1304.90</td>\n",
       "    </tr>\n",
       "    <tr>\n",
       "      <th>2019-01-10</th>\n",
       "      <td>15.918</td>\n",
       "      <td>1300.50</td>\n",
       "    </tr>\n",
       "    <tr>\n",
       "      <th>2019-01-11</th>\n",
       "      <td>15.931</td>\n",
       "      <td>1302.70</td>\n",
       "    </tr>\n",
       "    <tr>\n",
       "      <th>2019-01-14</th>\n",
       "      <td>15.962</td>\n",
       "      <td>1304.60</td>\n",
       "    </tr>\n",
       "  </tbody>\n",
       "</table>\n",
       "</div>"
      ],
      "text/plain": [
       "            Silver     Gold\n",
       "2019-01-01  15.523  1283.35\n",
       "2019-01-02  15.907  1296.90\n",
       "2019-01-03  16.061  1307.70\n",
       "2019-01-04  16.052  1298.70\n",
       "2019-01-07  16.021  1302.90\n",
       "2019-01-08  15.988  1298.80\n",
       "2019-01-09  16.009  1304.90\n",
       "2019-01-10  15.918  1300.50\n",
       "2019-01-11  15.931  1302.70\n",
       "2019-01-14  15.962  1304.60"
      ]
     },
     "execution_count": 8,
     "metadata": {},
     "output_type": "execute_result"
    }
   ],
   "source": [
    "df.head(10)"
   ]
  },
  {
   "cell_type": "markdown",
   "metadata": {},
   "source": [
    "## Extract specific period and commodity type"
   ]
  },
  {
   "cell_type": "code",
   "execution_count": 9,
   "metadata": {},
   "outputs": [],
   "source": [
    "#three command line arguments:\n",
    "def extract_data(df, start, end, type_info):\n",
    "    target = df.loc[start:end, type_info]\n",
    "    return target"
   ]
  },
  {
   "cell_type": "code",
   "execution_count": 10,
   "metadata": {},
   "outputs": [],
   "source": [
    "silver = extract_data(df,'2019-01-01', '2019-07-19', \"Silver\")\n",
    "gold = extract_data(df, '2019-01-01', '2019-07-19', \"Gold\")"
   ]
  },
  {
   "cell_type": "markdown",
   "metadata": {},
   "source": [
    "## Statistical properties of Data"
   ]
  },
  {
   "cell_type": "code",
   "execution_count": 11,
   "metadata": {},
   "outputs": [
    {
     "data": {
      "text/plain": [
       "count    144.000000\n",
       "mean      15.391882\n",
       "std        0.495903\n",
       "min       14.401000\n",
       "25%       15.028750\n",
       "50%       15.338500\n",
       "75%       15.842500\n",
       "max       16.464000\n",
       "Name: Silver, dtype: float64"
      ]
     },
     "execution_count": 11,
     "metadata": {},
     "output_type": "execute_result"
    }
   ],
   "source": [
    "silver_result = silver.describe()\n",
    "silver_result"
   ]
  },
  {
   "cell_type": "code",
   "execution_count": 12,
   "metadata": {},
   "outputs": [
    {
     "data": {
      "text/plain": [
       "count     144.000000\n",
       "mean     1321.727083\n",
       "std        43.563037\n",
       "min      1272.000000\n",
       "25%      1293.175000\n",
       "50%      1307.700000\n",
       "75%      1331.675000\n",
       "max      1444.250000\n",
       "Name: Gold, dtype: float64"
      ]
     },
     "execution_count": 12,
     "metadata": {},
     "output_type": "execute_result"
    }
   ],
   "source": [
    "gold_result = gold.describe()\n",
    "gold_result"
   ]
  },
  {
   "cell_type": "markdown",
   "metadata": {},
   "source": [
    "## Run an ETS Decomposition"
   ]
  },
  {
   "cell_type": "code",
   "execution_count": 13,
   "metadata": {},
   "outputs": [
    {
     "data": {
      "image/png": "[encoded data removed]",
      "text/plain": [
       "<Figure size 432x288 with 4 Axes>"
      ]
     },
     "metadata": {
      "needs_background": "light"
     },
     "output_type": "display_data"
    }
   ],
   "source": [
    "s_result = seasonal_decompose(silver, model='additive')\n",
    "s_result.plot();"
   ]
  },
  {
   "cell_type": "code",
   "execution_count": 14,
   "metadata": {},
   "outputs": [
    {
     "data": {
      "image/png": "[encoded data removed]",
      "text/plain": [
       "<Figure size 432x288 with 4 Axes>"
      ]
     },
     "metadata": {
      "needs_background": "light"
     },
     "output_type": "display_data"
    }
   ],
   "source": [
    "g_result = seasonal_decompose(gold, model='additive')\n",
    "g_result.plot();"
   ]
  },
  {
   "cell_type": "code",
   "execution_count": 15,
   "metadata": {},
   "outputs": [
    {
     "data": {
      "text/plain": [
       "count     140.000000\n",
       "mean     1320.584000\n",
       "std        41.100063\n",
       "min      1276.300000\n",
       "25%      1294.322500\n",
       "50%      1305.450000\n",
       "75%      1331.795000\n",
       "max      1424.060000\n",
       "Name: Gold, dtype: float64"
      ]
     },
     "execution_count": 15,
     "metadata": {},
     "output_type": "execute_result"
    }
   ],
   "source": [
    "g_result.trend.describe()"
   ]
  },
  {
   "cell_type": "markdown",
   "metadata": {},
   "source": [
    "## Tests for Stationarity"
   ]
  },
  {
   "cell_type": "code",
   "execution_count": 16,
   "metadata": {},
   "outputs": [],
   "source": [
    "def adf_test(series,title=''):\n",
    "    \"\"\"\n",
    "    Pass in a time series and an optional title, returns an ADF report\n",
    "    \"\"\"\n",
    "    print(f'Augmented Dickey-Fuller Test: {title}')\n",
    "    result = adfuller(series.dropna(),autolag='AIC') \n",
    "    \n",
    "    labels = ['ADF test statistic','p-value','# lags used','# observations']\n",
    "    out = pd.Series(result[0:4],index=labels)\n",
    "\n",
    "    for key,val in result[4].items():\n",
    "        out[f'critical value ({key})']=val\n",
    "        \n",
    "    print(out.to_string())\n",
    "    \n",
    "    if result[1] <= 0.05:\n",
    "        print(\"Strong evidence against the null hypothesis\")\n",
    "        print(\"Reject the null hypothesis\")\n",
    "        print(\"Data has no unit root and is stationary\")\n",
    "    else:\n",
    "        print(\"Weak evidence against the null hypothesis\")\n",
    "        print(\"Fail to reject the null hypothesis\")\n",
    "        print(\"Data has a unit root and is non-stationary\")"
   ]
  },
  {
   "cell_type": "code",
   "execution_count": 17,
   "metadata": {},
   "outputs": [
    {
     "name": "stdout",
     "output_type": "stream",
     "text": [
      "Augmented Dickey-Fuller Test: Silver\n",
      "ADF test statistic       -1.493798\n",
      "p-value                   0.536577\n",
      "# lags used               1.000000\n",
      "# observations          142.000000\n",
      "critical value (1%)      -3.477262\n",
      "critical value (5%)      -2.882118\n",
      "critical value (10%)     -2.577743\n",
      "Weak evidence against the null hypothesis\n",
      "Fail to reject the null hypothesis\n",
      "Data has a unit root and is non-stationary\n"
     ]
    }
   ],
   "source": [
    "# Augmented Dickey-Fuller Test\n",
    "adf_test(silver, title='Silver')"
   ]
  },
  {
   "cell_type": "code",
   "execution_count": 18,
   "metadata": {},
   "outputs": [
    {
     "name": "stdout",
     "output_type": "stream",
     "text": [
      "Augmented Dickey-Fuller Test: Gold\n",
      "ADF test statistic       -0.076146\n",
      "p-value                   0.951763\n",
      "# lags used               1.000000\n",
      "# observations          142.000000\n",
      "critical value (1%)      -3.477262\n",
      "critical value (5%)      -2.882118\n",
      "critical value (10%)     -2.577743\n",
      "Weak evidence against the null hypothesis\n",
      "Fail to reject the null hypothesis\n",
      "Data has a unit root and is non-stationary\n"
     ]
    }
   ],
   "source": [
    "# Augmented Dickey-Fuller Test\n",
    "adf_test(gold, title='Gold')"
   ]
  },
  {
   "cell_type": "markdown",
   "metadata": {},
   "source": [
    "## Model selection"
   ]
  },
  {
   "cell_type": "code",
   "execution_count": 19,
   "metadata": {},
   "outputs": [
    {
     "name": "stderr",
     "output_type": "stream",
     "text": [
      "/Users/qizhihua/anaconda3/lib/python3.6/site-packages/statsmodels/tsa/tsatools.py:607: RuntimeWarning: invalid value encountered in true_divide\n",
      "  (1+np.exp(-params))).copy()\n",
      "/Users/qizhihua/anaconda3/lib/python3.6/site-packages/statsmodels/tsa/tsatools.py:609: RuntimeWarning: invalid value encountered in true_divide\n",
      "  (1+np.exp(-params))).copy()\n",
      "/Users/qizhihua/anaconda3/lib/python3.6/site-packages/pmdarima/arima/_auto_solvers.py:207: ModelFitWarning: Unable to fit ARIMA for order=(2, 1, 2); data is likely non-stationary. (if you do not want to see these warnings, run with error_action=\"ignore\")\n",
      "  ModelFitWarning)\n"
     ]
    },
    {
     "data": {
      "text/html": [
       "<table class=\"simpletable\">\n",
       "<caption>ARIMA Model Results</caption>\n",
       "<tr>\n",
       "  <th>Dep. Variable:</th>        <td>D.y</td>       <th>  No. Observations:  </th>    <td>143</td>  \n",
       "</tr>\n",
       "<tr>\n",
       "  <th>Model:</th>          <td>ARIMA(0, 1, 0)</td>  <th>  Log Likelihood     </th>  <td>57.354</td> \n",
       "</tr>\n",
       "<tr>\n",
       "  <th>Method:</th>               <td>css</td>       <th>  S.D. of innovations</th>   <td>0.162</td> \n",
       "</tr>\n",
       "<tr>\n",
       "  <th>Date:</th>          <td>Mon, 22 Jul 2019</td> <th>  AIC                </th> <td>-110.709</td>\n",
       "</tr>\n",
       "<tr>\n",
       "  <th>Time:</th>              <td>00:17:07</td>     <th>  BIC                </th> <td>-104.783</td>\n",
       "</tr>\n",
       "<tr>\n",
       "  <th>Sample:</th>                <td>1</td>        <th>  HQIC               </th> <td>-108.301</td>\n",
       "</tr>\n",
       "<tr>\n",
       "  <th></th>                       <td> </td>        <th>                     </th>     <td> </td>   \n",
       "</tr>\n",
       "</table>\n",
       "<table class=\"simpletable\">\n",
       "<tr>\n",
       "    <td></td>       <th>coef</th>     <th>std err</th>      <th>z</th>      <th>P>|z|</th>  <th>[0.025</th>    <th>0.975]</th>  \n",
       "</tr>\n",
       "<tr>\n",
       "  <th>const</th> <td>    0.0047</td> <td>    0.014</td> <td>    0.347</td> <td> 0.729</td> <td>   -0.022</td> <td>    0.031</td>\n",
       "</tr>\n",
       "</table>"
      ],
      "text/plain": [
       "<class 'statsmodels.iolib.summary.Summary'>\n",
       "\"\"\"\n",
       "                             ARIMA Model Results                              \n",
       "==============================================================================\n",
       "Dep. Variable:                    D.y   No. Observations:                  143\n",
       "Model:                 ARIMA(0, 1, 0)   Log Likelihood                  57.354\n",
       "Method:                           css   S.D. of innovations              0.162\n",
       "Date:                Mon, 22 Jul 2019   AIC                           -110.709\n",
       "Time:                        00:17:07   BIC                           -104.783\n",
       "Sample:                             1   HQIC                          -108.301\n",
       "                                                                              \n",
       "==============================================================================\n",
       "                 coef    std err          z      P>|z|      [0.025      0.975]\n",
       "------------------------------------------------------------------------------\n",
       "const          0.0047      0.014      0.347      0.729      -0.022       0.031\n",
       "==============================================================================\n",
       "\"\"\""
      ]
     },
     "execution_count": 19,
     "metadata": {},
     "output_type": "execute_result"
    }
   ],
   "source": [
    "auto_arima(silver,seasonal=False).summary()"
   ]
  },
  {
   "cell_type": "code",
   "execution_count": 20,
   "metadata": {},
   "outputs": [
    {
     "data": {
      "text/html": [
       "<table class=\"simpletable\">\n",
       "<caption>ARIMA Model Results</caption>\n",
       "<tr>\n",
       "  <th>Dep. Variable:</th>        <td>D.y</td>       <th>  No. Observations:  </th>    <td>143</td>  \n",
       "</tr>\n",
       "<tr>\n",
       "  <th>Model:</th>          <td>ARIMA(1, 1, 1)</td>  <th>  Log Likelihood     </th> <td>-537.871</td>\n",
       "</tr>\n",
       "<tr>\n",
       "  <th>Method:</th>             <td>css-mle</td>     <th>  S.D. of innovations</th>  <td>10.397</td> \n",
       "</tr>\n",
       "<tr>\n",
       "  <th>Date:</th>          <td>Mon, 22 Jul 2019</td> <th>  AIC                </th> <td>1083.742</td>\n",
       "</tr>\n",
       "<tr>\n",
       "  <th>Time:</th>              <td>00:17:09</td>     <th>  BIC                </th> <td>1095.594</td>\n",
       "</tr>\n",
       "<tr>\n",
       "  <th>Sample:</th>                <td>1</td>        <th>  HQIC               </th> <td>1088.558</td>\n",
       "</tr>\n",
       "<tr>\n",
       "  <th></th>                       <td> </td>        <th>                     </th>     <td> </td>   \n",
       "</tr>\n",
       "</table>\n",
       "<table class=\"simpletable\">\n",
       "<tr>\n",
       "      <td></td>         <th>coef</th>     <th>std err</th>      <th>z</th>      <th>P>|z|</th>  <th>[0.025</th>    <th>0.975]</th>  \n",
       "</tr>\n",
       "<tr>\n",
       "  <th>const</th>     <td>    1.0195</td> <td>    0.841</td> <td>    1.213</td> <td> 0.227</td> <td>   -0.628</td> <td>    2.667</td>\n",
       "</tr>\n",
       "<tr>\n",
       "  <th>ar.L1.D.y</th> <td>   -0.9632</td> <td>    0.058</td> <td>  -16.718</td> <td> 0.000</td> <td>   -1.076</td> <td>   -0.850</td>\n",
       "</tr>\n",
       "<tr>\n",
       "  <th>ma.L1.D.y</th> <td>    0.8982</td> <td>    0.085</td> <td>   10.509</td> <td> 0.000</td> <td>    0.731</td> <td>    1.066</td>\n",
       "</tr>\n",
       "</table>\n",
       "<table class=\"simpletable\">\n",
       "<caption>Roots</caption>\n",
       "<tr>\n",
       "    <td></td>   <th>            Real</th>  <th>         Imaginary</th> <th>         Modulus</th>  <th>        Frequency</th>\n",
       "</tr>\n",
       "<tr>\n",
       "  <th>AR.1</th> <td>          -1.0382</td> <td>          +0.0000j</td> <td>           1.0382</td> <td>           0.5000</td>\n",
       "</tr>\n",
       "<tr>\n",
       "  <th>MA.1</th> <td>          -1.1133</td> <td>          +0.0000j</td> <td>           1.1133</td> <td>           0.5000</td>\n",
       "</tr>\n",
       "</table>"
      ],
      "text/plain": [
       "<class 'statsmodels.iolib.summary.Summary'>\n",
       "\"\"\"\n",
       "                             ARIMA Model Results                              \n",
       "==============================================================================\n",
       "Dep. Variable:                    D.y   No. Observations:                  143\n",
       "Model:                 ARIMA(1, 1, 1)   Log Likelihood                -537.871\n",
       "Method:                       css-mle   S.D. of innovations             10.397\n",
       "Date:                Mon, 22 Jul 2019   AIC                           1083.742\n",
       "Time:                        00:17:09   BIC                           1095.594\n",
       "Sample:                             1   HQIC                          1088.558\n",
       "                                                                              \n",
       "==============================================================================\n",
       "                 coef    std err          z      P>|z|      [0.025      0.975]\n",
       "------------------------------------------------------------------------------\n",
       "const          1.0195      0.841      1.213      0.227      -0.628       2.667\n",
       "ar.L1.D.y     -0.9632      0.058    -16.718      0.000      -1.076      -0.850\n",
       "ma.L1.D.y      0.8982      0.085     10.509      0.000       0.731       1.066\n",
       "                                    Roots                                    \n",
       "=============================================================================\n",
       "                  Real          Imaginary           Modulus         Frequency\n",
       "-----------------------------------------------------------------------------\n",
       "AR.1           -1.0382           +0.0000j            1.0382            0.5000\n",
       "MA.1           -1.1133           +0.0000j            1.1133            0.5000\n",
       "-----------------------------------------------------------------------------\n",
       "\"\"\""
      ]
     },
     "execution_count": 20,
     "metadata": {},
     "output_type": "execute_result"
    }
   ],
   "source": [
    "auto_arima(gold,seasonal=False).summary()"
   ]
  },
  {
   "cell_type": "code",
   "execution_count": 21,
   "metadata": {},
   "outputs": [
    {
     "name": "stdout",
     "output_type": "stream",
     "text": [
      "Fit ARIMA: order=(0, 1, 0); AIC=-110.709, BIC=-104.783, Fit time=0.004 seconds\n",
      "Fit ARIMA: order=(1, 1, 0); AIC=-110.568, BIC=-101.680, Fit time=0.026 seconds\n",
      "Fit ARIMA: order=(0, 1, 1); AIC=-110.317, BIC=-101.428, Fit time=0.018 seconds\n",
      "Fit ARIMA: order=(1, 1, 1); AIC=-108.893, BIC=-97.042, Fit time=0.068 seconds\n",
      "Total fit time: 0.118 seconds\n"
     ]
    },
    {
     "data": {
      "text/html": [
       "<table class=\"simpletable\">\n",
       "<caption>ARIMA Model Results</caption>\n",
       "<tr>\n",
       "  <th>Dep. Variable:</th>        <td>D.y</td>       <th>  No. Observations:  </th>    <td>143</td>  \n",
       "</tr>\n",
       "<tr>\n",
       "  <th>Model:</th>          <td>ARIMA(0, 1, 0)</td>  <th>  Log Likelihood     </th>  <td>57.354</td> \n",
       "</tr>\n",
       "<tr>\n",
       "  <th>Method:</th>               <td>css</td>       <th>  S.D. of innovations</th>   <td>0.162</td> \n",
       "</tr>\n",
       "<tr>\n",
       "  <th>Date:</th>          <td>Mon, 22 Jul 2019</td> <th>  AIC                </th> <td>-110.709</td>\n",
       "</tr>\n",
       "<tr>\n",
       "  <th>Time:</th>              <td>00:17:10</td>     <th>  BIC                </th> <td>-104.783</td>\n",
       "</tr>\n",
       "<tr>\n",
       "  <th>Sample:</th>                <td>1</td>        <th>  HQIC               </th> <td>-108.301</td>\n",
       "</tr>\n",
       "<tr>\n",
       "  <th></th>                       <td> </td>        <th>                     </th>     <td> </td>   \n",
       "</tr>\n",
       "</table>\n",
       "<table class=\"simpletable\">\n",
       "<tr>\n",
       "    <td></td>       <th>coef</th>     <th>std err</th>      <th>z</th>      <th>P>|z|</th>  <th>[0.025</th>    <th>0.975]</th>  \n",
       "</tr>\n",
       "<tr>\n",
       "  <th>const</th> <td>    0.0047</td> <td>    0.014</td> <td>    0.347</td> <td> 0.729</td> <td>   -0.022</td> <td>    0.031</td>\n",
       "</tr>\n",
       "</table>"
      ],
      "text/plain": [
       "<class 'statsmodels.iolib.summary.Summary'>\n",
       "\"\"\"\n",
       "                             ARIMA Model Results                              \n",
       "==============================================================================\n",
       "Dep. Variable:                    D.y   No. Observations:                  143\n",
       "Model:                 ARIMA(0, 1, 0)   Log Likelihood                  57.354\n",
       "Method:                           css   S.D. of innovations              0.162\n",
       "Date:                Mon, 22 Jul 2019   AIC                           -110.709\n",
       "Time:                        00:17:10   BIC                           -104.783\n",
       "Sample:                             1   HQIC                          -108.301\n",
       "                                                                              \n",
       "==============================================================================\n",
       "                 coef    std err          z      P>|z|      [0.025      0.975]\n",
       "------------------------------------------------------------------------------\n",
       "const          0.0047      0.014      0.347      0.729      -0.022       0.031\n",
       "==============================================================================\n",
       "\"\"\""
      ]
     },
     "execution_count": 21,
     "metadata": {},
     "output_type": "execute_result"
    }
   ],
   "source": [
    "silver_stepwise_fit = auto_arima(silver, start_p=0, start_q=0,\n",
    "                          max_p=2, max_q=2, m=12,\n",
    "                          seasonal=False,\n",
    "                          d=None, trace=True,\n",
    "                          error_action='ignore',   # we don't want to know if an order does not work\n",
    "                          suppress_warnings=True,  # we don't want convergence warnings\n",
    "                          stepwise=True)           # set to stepwise\n",
    "\n",
    "silver_stepwise_fit.summary()"
   ]
  },
  {
   "cell_type": "code",
   "execution_count": 22,
   "metadata": {},
   "outputs": [
    {
     "name": "stdout",
     "output_type": "stream",
     "text": [
      "Fit ARIMA: order=(0, 1, 0); AIC=1086.288, BIC=1092.214, Fit time=0.003 seconds\n",
      "Fit ARIMA: order=(1, 1, 0); AIC=1084.371, BIC=1093.259, Fit time=0.014 seconds\n",
      "Fit ARIMA: order=(0, 1, 1); AIC=1084.911, BIC=1093.800, Fit time=0.018 seconds\n",
      "Fit ARIMA: order=(2, 1, 0); AIC=1085.663, BIC=1097.515, Fit time=0.028 seconds\n",
      "Fit ARIMA: order=(1, 1, 1); AIC=1083.742, BIC=1095.594, Fit time=0.073 seconds\n",
      "Fit ARIMA: order=(2, 1, 2); AIC=1089.591, BIC=1107.368, Fit time=0.186 seconds\n",
      "Fit ARIMA: order=(2, 1, 1); AIC=1084.925, BIC=1099.739, Fit time=0.071 seconds\n",
      "Fit ARIMA: order=(1, 1, 2); AIC=1087.585, BIC=1102.399, Fit time=0.075 seconds\n",
      "Total fit time: 0.470 seconds\n"
     ]
    },
    {
     "data": {
      "text/html": [
       "<table class=\"simpletable\">\n",
       "<caption>ARIMA Model Results</caption>\n",
       "<tr>\n",
       "  <th>Dep. Variable:</th>        <td>D.y</td>       <th>  No. Observations:  </th>    <td>143</td>  \n",
       "</tr>\n",
       "<tr>\n",
       "  <th>Model:</th>          <td>ARIMA(1, 1, 1)</td>  <th>  Log Likelihood     </th> <td>-537.871</td>\n",
       "</tr>\n",
       "<tr>\n",
       "  <th>Method:</th>             <td>css-mle</td>     <th>  S.D. of innovations</th>  <td>10.397</td> \n",
       "</tr>\n",
       "<tr>\n",
       "  <th>Date:</th>          <td>Mon, 22 Jul 2019</td> <th>  AIC                </th> <td>1083.742</td>\n",
       "</tr>\n",
       "<tr>\n",
       "  <th>Time:</th>              <td>00:17:13</td>     <th>  BIC                </th> <td>1095.594</td>\n",
       "</tr>\n",
       "<tr>\n",
       "  <th>Sample:</th>                <td>1</td>        <th>  HQIC               </th> <td>1088.558</td>\n",
       "</tr>\n",
       "<tr>\n",
       "  <th></th>                       <td> </td>        <th>                     </th>     <td> </td>   \n",
       "</tr>\n",
       "</table>\n",
       "<table class=\"simpletable\">\n",
       "<tr>\n",
       "      <td></td>         <th>coef</th>     <th>std err</th>      <th>z</th>      <th>P>|z|</th>  <th>[0.025</th>    <th>0.975]</th>  \n",
       "</tr>\n",
       "<tr>\n",
       "  <th>const</th>     <td>    1.0195</td> <td>    0.841</td> <td>    1.213</td> <td> 0.227</td> <td>   -0.628</td> <td>    2.667</td>\n",
       "</tr>\n",
       "<tr>\n",
       "  <th>ar.L1.D.y</th> <td>   -0.9632</td> <td>    0.058</td> <td>  -16.718</td> <td> 0.000</td> <td>   -1.076</td> <td>   -0.850</td>\n",
       "</tr>\n",
       "<tr>\n",
       "  <th>ma.L1.D.y</th> <td>    0.8982</td> <td>    0.085</td> <td>   10.509</td> <td> 0.000</td> <td>    0.731</td> <td>    1.066</td>\n",
       "</tr>\n",
       "</table>\n",
       "<table class=\"simpletable\">\n",
       "<caption>Roots</caption>\n",
       "<tr>\n",
       "    <td></td>   <th>            Real</th>  <th>         Imaginary</th> <th>         Modulus</th>  <th>        Frequency</th>\n",
       "</tr>\n",
       "<tr>\n",
       "  <th>AR.1</th> <td>          -1.0382</td> <td>          +0.0000j</td> <td>           1.0382</td> <td>           0.5000</td>\n",
       "</tr>\n",
       "<tr>\n",
       "  <th>MA.1</th> <td>          -1.1133</td> <td>          +0.0000j</td> <td>           1.1133</td> <td>           0.5000</td>\n",
       "</tr>\n",
       "</table>"
      ],
      "text/plain": [
       "<class 'statsmodels.iolib.summary.Summary'>\n",
       "\"\"\"\n",
       "                             ARIMA Model Results                              \n",
       "==============================================================================\n",
       "Dep. Variable:                    D.y   No. Observations:                  143\n",
       "Model:                 ARIMA(1, 1, 1)   Log Likelihood                -537.871\n",
       "Method:                       css-mle   S.D. of innovations             10.397\n",
       "Date:                Mon, 22 Jul 2019   AIC                           1083.742\n",
       "Time:                        00:17:13   BIC                           1095.594\n",
       "Sample:                             1   HQIC                          1088.558\n",
       "                                                                              \n",
       "==============================================================================\n",
       "                 coef    std err          z      P>|z|      [0.025      0.975]\n",
       "------------------------------------------------------------------------------\n",
       "const          1.0195      0.841      1.213      0.227      -0.628       2.667\n",
       "ar.L1.D.y     -0.9632      0.058    -16.718      0.000      -1.076      -0.850\n",
       "ma.L1.D.y      0.8982      0.085     10.509      0.000       0.731       1.066\n",
       "                                    Roots                                    \n",
       "=============================================================================\n",
       "                  Real          Imaginary           Modulus         Frequency\n",
       "-----------------------------------------------------------------------------\n",
       "AR.1           -1.0382           +0.0000j            1.0382            0.5000\n",
       "MA.1           -1.1133           +0.0000j            1.1133            0.5000\n",
       "-----------------------------------------------------------------------------\n",
       "\"\"\""
      ]
     },
     "execution_count": 22,
     "metadata": {},
     "output_type": "execute_result"
    }
   ],
   "source": [
    "gold_stepwise_fit = auto_arima(gold, start_p=0, start_q=0,\n",
    "                          max_p=2, max_q=2, m=12,\n",
    "                          seasonal=False,\n",
    "                          d=None, trace=True,\n",
    "                          error_action='ignore',   # we don't want to know if an order does not work\n",
    "                          suppress_warnings=True,  # we don't want convergence warnings\n",
    "                          stepwise=True)           # set to stepwise\n",
    "\n",
    "gold_stepwise_fit.summary()"
   ]
  },
  {
   "cell_type": "markdown",
   "metadata": {},
   "source": [
    "## ACF plot"
   ]
  },
  {
   "cell_type": "code",
   "execution_count": 23,
   "metadata": {},
   "outputs": [],
   "source": [
    "from statsmodels.graphics.tsaplots import plot_acf"
   ]
  },
  {
   "cell_type": "code",
   "execution_count": 24,
   "metadata": {},
   "outputs": [],
   "source": [
    "#gold = gold.apply(lambda x: np.log(x))\n",
    "g_diff = gold - gold.shift(1)\n",
    "s_diff = silver - silver.shift(1)\n",
    "g_diff = g_diff.dropna()\n",
    "s_diff = s_diff.dropna()"
   ]
  },
  {
   "cell_type": "code",
   "execution_count": 25,
   "metadata": {},
   "outputs": [
    {
     "data": {
      "image/png": "[encoded data removed]",
      "text/plain": [
       "<Figure size 432x288 with 1 Axes>"
      ]
     },
     "metadata": {
      "needs_background": "light"
     },
     "output_type": "display_data"
    }
   ],
   "source": [
    "title = 'Autocorrelation: Gold'\n",
    "plot_acf(g_diff, title=title);"
   ]
  },
  {
   "cell_type": "code",
   "execution_count": 26,
   "metadata": {},
   "outputs": [
    {
     "data": {
      "image/png": "[encoded data removed]",
      "text/plain": [
       "<Figure size 432x288 with 1 Axes>"
      ]
     },
     "metadata": {
      "needs_background": "light"
     },
     "output_type": "display_data"
    }
   ],
   "source": [
    "title = 'Autocorrelation: Silver'\n",
    "plot_acf(s_diff,title=title);"
   ]
  }
 ],
 "metadata": {
  "kernelspec": {
   "display_name": "Python 3",
   "language": "python",
   "name": "python3"
  },
  "language_info": {
   "codemirror_mode": {
    "name": "ipython",
    "version": 3
   },
   "file_extension": ".py",
   "mimetype": "text/x-python",
   "name": "python",
   "nbconvert_exporter": "python",
   "pygments_lexer": "ipython3",
   "version": "3.6.8"
  }
 },
 "nbformat": 4,
 "nbformat_minor": 2
}
